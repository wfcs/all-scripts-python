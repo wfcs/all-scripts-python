{
 "cells": [
  {
   "cell_type": "code",
   "execution_count": 5,
   "id": "76064aff",
   "metadata": {},
   "outputs": [],
   "source": [
    "import requests\n",
    "import pandas as pd\n",
    "\n",
    "Api_Key = \"_J=IUwKV(hg^Upo5NXsaim*MHB_h4xbQlJf&hmGN\"\n",
    "Group_Ids = \"-5950303211111682806\"\n",
    "Insights_ApiUrl = \"https://insights.us.mixtelematics.com\"\n",
    "Refresh_WindowInMonths = 13   "
   ]
  },
  {
   "cell_type": "code",
   "execution_count": 6,
   "id": "b5b41e7e",
   "metadata": {},
   "outputs": [],
   "source": [
    "# Variáveis \n",
    "InsightsApiUrl = Insights_ApiUrl \n",
    "ApiKey = Api_Key\n",
    "GroupIds = Group_Ids "
   ]
  },
  {
   "cell_type": "code",
   "execution_count": 7,
   "id": "15137943",
   "metadata": {},
   "outputs": [],
   "source": [
    "# Requisição para a API\n",
    "url = f\"{InsightsApiUrl}/api/dimensions/assets/{GroupIds}\"\n",
    "headers = {\n",
    "    \"X-API-KEY\": ApiKey\n",
    "}\n",
    "\n",
    "response = requests.get(url, headers=headers)\n",
    "response.raise_for_status()  # Lança erro se a resposta for ruim"
   ]
  },
  {
   "cell_type": "code",
   "execution_count": 8,
   "metadata": {},
   "outputs": [],
   "source": [
    "# Converte o JSON em DataFrame\n",
    "data_json = response.json()\n",
    "df = pd.DataFrame(data_json)"
   ]
  },
  {
   "cell_type": "code",
   "execution_count": null,
   "id": "20cc853f",
   "metadata": {},
   "outputs": [],
   "source": [
    "# Renomeia as colunas\n",
    "df = df.rename(columns={\n",
    "    \"AssetId\": \"AssetId\",\n",
    "    \"SiteId\": \"IDFilial\",\n",
    "    \"AssetType\": \"TipoAtivo\",\n",
    "    \"GroupId\": \"GroupId\",\n",
    "    \"RegistrationNumber\": \"Placa\",\n",
    "    \"IsAvailable\": \"Status\",\n",
    "    \"Make\": \"Marca\",\n",
    "    \"Model\": \"Modelo\",\n",
    "    \"FuelType\": \"FuelType\",\n",
    "    \"Year\": \"AnoModelo\"\n",
    "})"
   ]
  },
  {
   "cell_type": "code",
   "execution_count": 36,
   "id": "cb4d53d7",
   "metadata": {},
   "outputs": [],
   "source": [
    "# Converte tipos de dados\n",
    "df_result = df[['AssetId', 'IDFilial', 'TipoAtivo', \\\n",
    "         #'Marca','Modelo','FuelType', \\\n",
    "         'GroupId','Placa','Status','AnoModelo']]\n",
    "\n",
    "df_result = df_result.astype({\n",
    "    \"AssetId\": \"Int64\",\n",
    "    \"TipoAtivo\": \"string\",\n",
    "    # \"Marca\": \"string\",\n",
    "    # \"Modelo\": \"string\",\n",
    "    # \"FuelType\": \"string\",\n",
    "    \"GroupId\": \"Int64\",\n",
    "    \"Placa\": \"string\",\n",
    "    \"Status\": \"boolean\",\n",
    "    \"AnoModelo\": \"Int64\"\n",
    "})\n"
   ]
  },
  {
   "cell_type": "code",
   "execution_count": 37,
   "id": "b2584591",
   "metadata": {},
   "outputs": [
    {
     "data": {
      "text/plain": [
       "AssetId      0\n",
       "IDFilial     0\n",
       "TipoAtivo    0\n",
       "GroupId      0\n",
       "Placa        0\n",
       "Status       0\n",
       "AnoModelo    0\n",
       "dtype: int64"
      ]
     },
     "execution_count": 37,
     "metadata": {},
     "output_type": "execute_result"
    }
   ],
   "source": [
    "# Trata erros na coluna 'IDFilial'\n",
    "df_result[\"IDFilial\"] = pd.to_numeric(df_result[\"IDFilial\"], errors='coerce').astype(\"Int64\").astype(\"string\")\n",
    "\n",
    "df_result.isnull().sum()"
   ]
  }
 ],
 "metadata": {
  "kernelspec": {
   "display_name": "Python 3",
   "language": "python",
   "name": "python3"
  },
  "language_info": {
   "codemirror_mode": {
    "name": "ipython",
    "version": 3
   },
   "file_extension": ".py",
   "mimetype": "text/x-python",
   "name": "python",
   "nbconvert_exporter": "python",
   "pygments_lexer": "ipython3",
   "version": "3.12.10"
  }
 },
 "nbformat": 4,
 "nbformat_minor": 5
}
