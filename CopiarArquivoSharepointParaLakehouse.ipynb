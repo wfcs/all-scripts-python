{
 "cells": [
  {
   "cell_type": "code",
   "execution_count": null,
   "id": "6aa5ea7c",
   "metadata": {},
   "outputs": [],
   "source": [
    "# %pip install office365-rest-python-client\n",
    "\n",
    "from office365.runtime.auth.user_credential import UserCredential\n",
    "from office365.sharepoint.client_context import ClientContext\n",
    "from office365.sharepoint.files.file import File\n",
    "\n",
    "import os\n",
    "\n",
    "site_url = \"https://smartdrivinglabs.sharepoint.com/sites/inteligencia_de_negocios\"\n",
    "\n",
    "ctx = ClientContext(site_url).with_credentials(UserCredential(\"Desenvolvedor@questarbr.com\", \"Dev@2025!\"))\n",
    "\n",
    "folder_url = \"/sites/inteligencia_de_negocios/Documentos Compartilhados/02_Dados_Parquet\"\n",
    "\n",
    "folder = ctx.web.get_folder_by_server_relative_url(folder_url)\n",
    "files = folder.files\n",
    "ctx.load(files)\n",
    "ctx.execute_query()\n",
    "\n",
    "# Pasta local temporária\n",
    "local_folder = \"/lakehouse/default/Files/Arquivos_Parquet\"\n",
    "\n",
    "for file in files:\n",
    "    file_name = file.properties[\"Name\"]\n",
    "    file_url = file.properties[\"ServerRelativeUrl\"]\n",
    "\n",
    "    # Fazer o download do arquivo\n",
    "    file_response = File.open_binary(ctx, file_url)\n",
    "\n",
    "    # Criar o caminho de destino no Lakehouse\n",
    "    local_path = os.path.join(local_folder, file_name)\n",
    "\n",
    "    # Salvar o arquivo no Lakehouse\n",
    "    with open(local_path, \"wb\") as local_file:\n",
    "        local_file.write(file_response.content)\n",
    "\n",
    "    print(f\"Arquivo {file_name} copiado para {local_path}\")\n"
   ]
  }
 ],
 "metadata": {
  "kernelspec": {
   "display_name": "Python 3",
   "language": "python",
   "name": "python3"
  },
  "language_info": {
   "codemirror_mode": {
    "name": "ipython",
    "version": 3
   },
   "file_extension": ".py",
   "mimetype": "text/x-python",
   "name": "python",
   "nbconvert_exporter": "python",
   "pygments_lexer": "ipython3",
   "version": "3.12.10"
  }
 },
 "nbformat": 4,
 "nbformat_minor": 5
}
