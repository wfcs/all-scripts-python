{
 "cells": [
  {
   "cell_type": "code",
   "execution_count": 7,
   "metadata": {},
   "outputs": [
    {
     "name": "stderr",
     "output_type": "stream",
     "text": [
      "<>:3: SyntaxWarning: invalid escape sequence '\\D'\n",
      "<>:3: SyntaxWarning: invalid escape sequence '\\D'\n",
      "C:\\Users\\FelipeDoVinho\\AppData\\Local\\Temp\\ipykernel_5724\\2841013192.py:3: SyntaxWarning: invalid escape sequence '\\D'\n",
      "  data = pd.read_csv('E:\\Downloads\\Dados_Logistica_Ficticios.csv', sep=';', parse_dates=['Data de Envio', 'Data de Entrega'])\n"
     ]
    }
   ],
   "source": [
    "# Importar o arquivo gerado\n",
    "import pandas as pd\n",
    "data = pd.read_csv('E:\\Downloads\\Dados_Logistica_Ficticios.csv', sep=';', parse_dates=['Data de Envio', 'Data de Entrega'])"
   ]
  },
  {
   "cell_type": "code",
   "execution_count": 9,
   "metadata": {},
   "outputs": [
    {
     "data": {
      "text/plain": [
       "np.float64(13.02)"
      ]
     },
     "execution_count": 9,
     "metadata": {},
     "output_type": "execute_result"
    }
   ],
   "source": [
    "# Adicionar colunas auxiliares\n",
    "# 1. Entregas no prazo (On-Time): Data de Entrega <= Data de Envio + 10 dias\n",
    "data['Entrega no Prazo'] = data['Data de Entrega'] <= (data['Data de Envio'] + pd.Timedelta(days=10))\n",
    "\n",
    "# 2. Entregas completas (In-Full): Quantidade Entregue >= Quantidade Enviada\n",
    "data['Entrega Completa'] = data['Quantidade Entregue'] >= data['Quantidade Enviada']\n",
    "\n",
    "# 3. OTIF por linha: Ambas condições atendidas\n",
    "data['OTIF'] = data['Entrega no Prazo'] & data['Entrega Completa']\n",
    "\n",
    "# 4. Cálculo do OTIF total (%)\n",
    "otif_percentual = data['OTIF'].mean() * 100\n",
    "\n",
    "round( otif_percentual, 2)  # 0.00"
   ]
  },
  {
   "cell_type": "code",
   "execution_count": 10,
   "metadata": {},
   "outputs": [
    {
     "data": {
      "text/html": [
       "<div>\n",
       "<style scoped>\n",
       "    .dataframe tbody tr th:only-of-type {\n",
       "        vertical-align: middle;\n",
       "    }\n",
       "\n",
       "    .dataframe tbody tr th {\n",
       "        vertical-align: top;\n",
       "    }\n",
       "\n",
       "    .dataframe thead th {\n",
       "        text-align: right;\n",
       "    }\n",
       "</style>\n",
       "<table border=\"1\" class=\"dataframe\">\n",
       "  <thead>\n",
       "    <tr style=\"text-align: right;\">\n",
       "      <th></th>\n",
       "      <th>ID Pedido</th>\n",
       "      <th>Data de Envio</th>\n",
       "      <th>Data de Entrega</th>\n",
       "      <th>Quantidade Enviada</th>\n",
       "      <th>Quantidade Entregue</th>\n",
       "      <th>Entrega no Prazo</th>\n",
       "      <th>Entrega Completa</th>\n",
       "      <th>OTIF</th>\n",
       "    </tr>\n",
       "  </thead>\n",
       "  <tbody>\n",
       "    <tr>\n",
       "      <th>0</th>\n",
       "      <td>1</td>\n",
       "      <td>2023-01-31</td>\n",
       "      <td>2023-02-05</td>\n",
       "      <td>175</td>\n",
       "      <td>166</td>\n",
       "      <td>True</td>\n",
       "      <td>False</td>\n",
       "      <td>False</td>\n",
       "    </tr>\n",
       "    <tr>\n",
       "      <th>1</th>\n",
       "      <td>2</td>\n",
       "      <td>2023-12-30</td>\n",
       "      <td>2024-01-03</td>\n",
       "      <td>76</td>\n",
       "      <td>72</td>\n",
       "      <td>True</td>\n",
       "      <td>False</td>\n",
       "      <td>False</td>\n",
       "    </tr>\n",
       "    <tr>\n",
       "      <th>2</th>\n",
       "      <td>3</td>\n",
       "      <td>2022-05-10</td>\n",
       "      <td>2022-05-13</td>\n",
       "      <td>71</td>\n",
       "      <td>67</td>\n",
       "      <td>True</td>\n",
       "      <td>False</td>\n",
       "      <td>False</td>\n",
       "    </tr>\n",
       "    <tr>\n",
       "      <th>3</th>\n",
       "      <td>4</td>\n",
       "      <td>2023-07-18</td>\n",
       "      <td>2023-07-23</td>\n",
       "      <td>118</td>\n",
       "      <td>111</td>\n",
       "      <td>True</td>\n",
       "      <td>False</td>\n",
       "      <td>False</td>\n",
       "    </tr>\n",
       "    <tr>\n",
       "      <th>4</th>\n",
       "      <td>5</td>\n",
       "      <td>2023-02-04</td>\n",
       "      <td>2023-02-18</td>\n",
       "      <td>176</td>\n",
       "      <td>167</td>\n",
       "      <td>False</td>\n",
       "      <td>False</td>\n",
       "      <td>False</td>\n",
       "    </tr>\n",
       "    <tr>\n",
       "      <th>5</th>\n",
       "      <td>6</td>\n",
       "      <td>2022-12-31</td>\n",
       "      <td>2023-01-09</td>\n",
       "      <td>46</td>\n",
       "      <td>43</td>\n",
       "      <td>True</td>\n",
       "      <td>False</td>\n",
       "      <td>False</td>\n",
       "    </tr>\n",
       "    <tr>\n",
       "      <th>6</th>\n",
       "      <td>7</td>\n",
       "      <td>2022-11-10</td>\n",
       "      <td>2022-11-18</td>\n",
       "      <td>128</td>\n",
       "      <td>126</td>\n",
       "      <td>True</td>\n",
       "      <td>False</td>\n",
       "      <td>False</td>\n",
       "    </tr>\n",
       "    <tr>\n",
       "      <th>7</th>\n",
       "      <td>8</td>\n",
       "      <td>2020-05-01</td>\n",
       "      <td>2020-05-09</td>\n",
       "      <td>95</td>\n",
       "      <td>91</td>\n",
       "      <td>True</td>\n",
       "      <td>False</td>\n",
       "      <td>False</td>\n",
       "    </tr>\n",
       "    <tr>\n",
       "      <th>8</th>\n",
       "      <td>9</td>\n",
       "      <td>2021-04-11</td>\n",
       "      <td>2021-04-19</td>\n",
       "      <td>135</td>\n",
       "      <td>134</td>\n",
       "      <td>True</td>\n",
       "      <td>False</td>\n",
       "      <td>False</td>\n",
       "    </tr>\n",
       "    <tr>\n",
       "      <th>9</th>\n",
       "      <td>10</td>\n",
       "      <td>2023-05-23</td>\n",
       "      <td>2023-06-04</td>\n",
       "      <td>145</td>\n",
       "      <td>141</td>\n",
       "      <td>False</td>\n",
       "      <td>False</td>\n",
       "      <td>False</td>\n",
       "    </tr>\n",
       "  </tbody>\n",
       "</table>\n",
       "</div>"
      ],
      "text/plain": [
       "   ID Pedido Data de Envio Data de Entrega  Quantidade Enviada  \\\n",
       "0          1    2023-01-31      2023-02-05                 175   \n",
       "1          2    2023-12-30      2024-01-03                  76   \n",
       "2          3    2022-05-10      2022-05-13                  71   \n",
       "3          4    2023-07-18      2023-07-23                 118   \n",
       "4          5    2023-02-04      2023-02-18                 176   \n",
       "5          6    2022-12-31      2023-01-09                  46   \n",
       "6          7    2022-11-10      2022-11-18                 128   \n",
       "7          8    2020-05-01      2020-05-09                  95   \n",
       "8          9    2021-04-11      2021-04-19                 135   \n",
       "9         10    2023-05-23      2023-06-04                 145   \n",
       "\n",
       "   Quantidade Entregue  Entrega no Prazo  Entrega Completa   OTIF  \n",
       "0                  166              True             False  False  \n",
       "1                   72              True             False  False  \n",
       "2                   67              True             False  False  \n",
       "3                  111              True             False  False  \n",
       "4                  167             False             False  False  \n",
       "5                   43              True             False  False  \n",
       "6                  126              True             False  False  \n",
       "7                   91              True             False  False  \n",
       "8                  134              True             False  False  \n",
       "9                  141             False             False  False  "
      ]
     },
     "execution_count": 10,
     "metadata": {},
     "output_type": "execute_result"
    }
   ],
   "source": [
    "# Recalcular colunas auxiliares\n",
    "data['Entrega no Prazo'] = data['Data de Entrega'] <= (data['Data de Envio'] + pd.Timedelta(days=10))\n",
    "data['Entrega Completa'] = data['Quantidade Entregue'] >= data['Quantidade Enviada']\n",
    "data['OTIF'] = data['Entrega no Prazo'] & data['Entrega Completa']\n",
    "\n",
    "# Exibir uma amostra dos dados\n",
    "data[['ID Pedido', 'Data de Envio', 'Data de Entrega', 'Quantidade Enviada',\n",
    "      'Quantidade Entregue', 'Entrega no Prazo', 'Entrega Completa', 'OTIF']].head(10)\n"
   ]
  },
  {
   "cell_type": "code",
   "execution_count": 18,
   "metadata": {},
   "outputs": [
    {
     "data": {
      "text/html": [
       "<div>\n",
       "<style scoped>\n",
       "    .dataframe tbody tr th:only-of-type {\n",
       "        vertical-align: middle;\n",
       "    }\n",
       "\n",
       "    .dataframe tbody tr th {\n",
       "        vertical-align: top;\n",
       "    }\n",
       "\n",
       "    .dataframe thead th {\n",
       "        text-align: right;\n",
       "    }\n",
       "</style>\n",
       "<table border=\"1\" class=\"dataframe\">\n",
       "  <thead>\n",
       "    <tr style=\"text-align: right;\">\n",
       "      <th></th>\n",
       "      <th>Transportadora</th>\n",
       "      <th>OTIF</th>\n",
       "    </tr>\n",
       "  </thead>\n",
       "  <tbody>\n",
       "    <tr>\n",
       "      <th>0</th>\n",
       "      <td>Transportadora A</td>\n",
       "      <td>False</td>\n",
       "    </tr>\n",
       "    <tr>\n",
       "      <th>1</th>\n",
       "      <td>Transportadora C</td>\n",
       "      <td>False</td>\n",
       "    </tr>\n",
       "  </tbody>\n",
       "</table>\n",
       "</div>"
      ],
      "text/plain": [
       "     Transportadora   OTIF\n",
       "0  Transportadora A  False\n",
       "1  Transportadora C  False"
      ]
     },
     "execution_count": 18,
     "metadata": {},
     "output_type": "execute_result"
    }
   ],
   "source": [
    "# Adicionar colunas auxiliares para análise por ano e mês\n",
    "data['Ano'] = data['Data de Envio'].dt.year\n",
    "data['Mês'] = data['Data de Envio'].dt.month\n",
    "\n",
    "# 1. OTIF por Transportadora\n",
    "otif_por_transportadora = data.groupby('Transportadora')['OTIF'].mean() * 100\n",
    "\n",
    "# 2. OTIF por Ano\n",
    "otif_por_ano = data.groupby('Ano')['OTIF'].mean() * 100\n",
    "\n",
    "# 3. OTIF por Mês (considerando todos os anos juntos)\n",
    "otif_por_mes = data.groupby('Mês')['OTIF'].mean() * 100\n",
    "\n",
    "\n",
    "data[['Transportadora', 'OTIF']].head(2)\n",
    "\n",
    "# otif_por_transportadora, otif_por_ano, otif_por_mes\n"
   ]
  },
  {
   "cell_type": "code",
   "execution_count": 22,
   "metadata": {},
   "outputs": [
    {
     "name": "stdout",
     "output_type": "stream",
     "text": [
      "     Transportadora   OTIF (%)\n",
      "0  Transportadora A  13.625731\n",
      "1  Transportadora B  11.907731\n",
      "2  Transportadora C  13.463820\n"
     ]
    }
   ],
   "source": [
    "# Formatar OTIF por Transportadora\n",
    "df_otif_transportadora = otif_por_transportadora.reset_index()\n",
    "df_otif_transportadora.columns = ['Transportadora', 'OTIF (%)']\n",
    "print(df_otif_transportadora)\n"
   ]
  },
  {
   "cell_type": "code",
   "execution_count": 23,
   "metadata": {},
   "outputs": [
    {
     "name": "stdout",
     "output_type": "stream",
     "text": [
      "    Ano   OTIF (%)\n",
      "0  2020  10.916667\n",
      "1  2021  13.200000\n",
      "2  2022  13.975155\n",
      "3  2023  13.866878\n"
     ]
    }
   ],
   "source": [
    "# Formatar OTIF por Ano\n",
    "df_otif_ano = otif_por_ano.reset_index()\n",
    "df_otif_ano.columns = ['Ano', 'OTIF (%)']\n",
    "print(df_otif_ano)\n"
   ]
  },
  {
   "cell_type": "code",
   "execution_count": 24,
   "metadata": {},
   "outputs": [
    {
     "name": "stdout",
     "output_type": "stream",
     "text": [
      "    Mês   OTIF (%)\n",
      "0     1  14.318707\n",
      "1     2  15.326633\n",
      "2     3  12.967581\n",
      "3     4  13.466334\n",
      "4     5   8.577878\n",
      "5     6  10.837438\n",
      "6     7  14.596950\n",
      "7     8  14.114833\n",
      "8     9  13.888889\n",
      "9    10  13.647059\n",
      "10   11  12.250000\n",
      "11   12  12.380952\n"
     ]
    }
   ],
   "source": [
    "# Formatar OTIF por Mês\n",
    "df_otif_mes = otif_por_mes.reset_index()\n",
    "df_otif_mes.columns = ['Mês', 'OTIF (%)']\n",
    "print(df_otif_mes)\n"
   ]
  },
  {
   "cell_type": "markdown",
   "metadata": {},
   "source": [
    "### Exportar a analise gerada em CSV"
   ]
  },
  {
   "cell_type": "code",
   "execution_count": 25,
   "metadata": {},
   "outputs": [],
   "source": [
    "df_otif_transportadora.to_csv('OTIF_Transportadora.csv', index=False, sep=';')\n",
    "df_otif_ano.to_csv('OTIF_Ano.csv', index=False, sep=';')\n",
    "df_otif_mes.to_csv('OTIF_Mes.csv', index=False, sep=';')\n"
   ]
  }
 ],
 "metadata": {
  "kernelspec": {
   "display_name": "Python 3",
   "language": "python",
   "name": "python3"
  },
  "language_info": {
   "codemirror_mode": {
    "name": "ipython",
    "version": 3
   },
   "file_extension": ".py",
   "mimetype": "text/x-python",
   "name": "python",
   "nbconvert_exporter": "python",
   "pygments_lexer": "ipython3",
   "version": "3.12.8"
  }
 },
 "nbformat": 4,
 "nbformat_minor": 2
}
