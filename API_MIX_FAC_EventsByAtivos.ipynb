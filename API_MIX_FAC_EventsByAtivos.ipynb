{
 "cells": [
  {
   "cell_type": "code",
   "execution_count": null,
   "id": "76064aff",
   "metadata": {},
   "outputs": [],
   "source": [
    "Api_Key = \"_J=IUwKV(hg^Upo5NXsaim*MHB_h4xbQlJf&hmGN\"\n",
    "\n",
    "Group_Ids = \"-5950303211111682806\"\n",
    "\n",
    "Insights_ApiUrl = \"https://insights.us.mixtelematics.com\"\n",
    "\n",
    "Refresh_WindowInMonths = 1   "
   ]
  },
  {
   "cell_type": "code",
   "execution_count": null,
   "id": "60c3905a",
   "metadata": {},
   "outputs": [],
   "source": [
    "from datetime import datetime, timedelta\n",
    "import math\n",
    "import requests\n",
    "import pandas as pd\n",
    "from numpy import int64\n",
    "from numpy import float64"
   ]
  },
  {
   "cell_type": "code",
   "execution_count": null,
   "id": "b5b41e7e",
   "metadata": {},
   "outputs": [],
   "source": [
    "# Variáveis\n",
    "InsightsApiUrl = Insights_ApiUrl # Substitua pela URL base real\n",
    "ApiKey = Api_Key\n",
    "GroupIds = Group_Ids  # Pode ser múltiplos IDs separados por vírgula se necessário\n",
    "RefreshWindowInMonths = Refresh_WindowInMonths"
   ]
  },
  {
   "cell_type": "code",
   "execution_count": null,
   "id": "15137943",
   "metadata": {},
   "outputs": [],
   "source": [
    "# === 1. CALCULA INTERVALO DE DATAS ===\n",
    "to_date = datetime.now().date()\n",
    "from_date = to_date - timedelta(days=RefreshWindowInMonths * 30)\n",
    "date_diff = (to_date - from_date).days\n",
    "intervalos = [i for i in range(0, math.floor(date_diff / 30) + 1)]"
   ]
  },
  {
   "cell_type": "code",
   "execution_count": null,
   "id": "8e745a44",
   "metadata": {},
   "outputs": [],
   "source": [
    "# === 2. FUNÇÃO PARA FORMATAR DATA ===\n",
    "def format_date(date):\n",
    "    return date.strftime(\"%Y%m%d\")"
   ]
  },
  {
   "cell_type": "code",
   "execution_count": null,
   "id": "20cc853f",
   "metadata": {},
   "outputs": [],
   "source": [
    "# === 3. GERA LISTA DE PERÍODOS MENSAL ===\n",
    "periodos = []\n",
    "for i in intervalos:\n",
    "    start_date = from_date + timedelta(days=i * 30)\n",
    "    end_date = start_date + timedelta(days=29)\n",
    "    periodos.append({\n",
    "        \"start\": start_date,\n",
    "        \"end\": end_date,\n",
    "        \"start_fmt\": format_date(start_date),\n",
    "        \"end_fmt\": format_date(end_date)\n",
    "    })"
   ]
  },
  {
   "cell_type": "code",
   "execution_count": null,
   "id": "cb4d53d7",
   "metadata": {},
   "outputs": [],
   "source": [
    "# === 4. CONSULTA A API PARA CADA PERÍODO ===\n",
    "dados_coletados = []\n",
    "for p in periodos:\n",
    "    url = f\"{InsightsApiUrl}/api/aggregates/events/assets/{GroupIds}?startDate={p['start_fmt']}&endDate={p['end_fmt']}\"\n",
    "    headers = {\"X-API-KEY\": ApiKey}\n",
    "    response = requests.get(url, headers=headers)\n",
    "    if response.status_code == 200:\n",
    "        dados_coletados.extend(response.json())\n",
    "    else:\n",
    "        print(f\"Erro {response.status_code} na chamada entre {p['start_fmt']} e {p['end_fmt']}\")"
   ]
  },
  {
   "cell_type": "code",
   "execution_count": null,
   "id": "227e5380",
   "metadata": {},
   "outputs": [],
   "source": [
    "print(dados_coletados[0].keys())"
   ]
  },
  {
   "cell_type": "code",
   "execution_count": null,
   "id": "b2584591",
   "metadata": {},
   "outputs": [],
   "source": [
    "# === 5. CRIA DATAFRAME E AJUSTA TIPOS ===\n",
    "\n",
    "df = pd.DataFrame(dados_coletados)\n",
    "if not df.empty:\n",
    "    df = df.astype({\n",
    "        \"DateKey\": \"Int64\", \n",
    "        \"GroupId\": \"Int64\", \n",
    "        \"SiteId\": \"Int64\", \n",
    "        \"AssetId\": \"Int64\", \n",
    "        \"TotalEventOccurrences\": \"Int64\", \n",
    "        \"EventTypeId\": \"Int64\", \n",
    "        \"MinEventValue\":\"float64\", \n",
    "        \"MaxEventValue\":\"float64\", \n",
    "        \"TotalEventValue\":\"float64\", \n",
    "        \"MinEventDuration\":\"float64\", \n",
    "        \"MaxEventDuration\":\"float64\", \n",
    "        \"TotalEventDuration\":\"float64\"\n",
    "    }, errors='ignore')"
   ]
  },
  {
   "cell_type": "code",
   "execution_count": null,
   "id": "ce5f69d5",
   "metadata": {},
   "outputs": [],
   "source": [
    "# === 6. CRIA COLUNA COMPOSTA ===\n",
    "df[\"CompositeGroupEventTypeId\"] = df[\"GroupId\"].astype(str) + \":\" + df[\"EventTypeId\"].astype(str)\n",
    "df[\"CompositeGroupEventTypeId\"] = df[\"CompositeGroupEventTypeId\"].where(df[\"CompositeGroupEventTypeId\"].notnull(), None)\n",
    "\n",
    "# === 7. MOSTRA OS PRIMEIROS REGISTROS ===\n",
    "df.head()"
   ]
  }
 ],
 "metadata": {
  "kernelspec": {
   "display_name": "Python 3",
   "language": "python",
   "name": "python3"
  },
  "language_info": {
   "codemirror_mode": {
    "name": "ipython",
    "version": 3
   },
   "file_extension": ".py",
   "mimetype": "text/x-python",
   "name": "python",
   "nbconvert_exporter": "python",
   "pygments_lexer": "ipython3",
   "version": "3.12.10"
  }
 },
 "nbformat": 4,
 "nbformat_minor": 5
}
