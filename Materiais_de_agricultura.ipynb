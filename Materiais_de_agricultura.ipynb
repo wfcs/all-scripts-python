{
 "cells": [
  {
   "cell_type": "code",
   "execution_count": null,
   "metadata": {
    "id": "KdDxgSzgoNDH"
   },
   "outputs": [],
   "source": [
    "# Import required packages\n",
    "import numpy as np\n",
    "import pandas as pd"
   ]
  },
  {
   "cell_type": "markdown",
   "metadata": {
    "id": "YGh99BxcpTFo"
   },
   "source": [
    "**Carregando o conjunto de dados em um quadro de dados usando Pandas**"
   ]
  },
  {
   "cell_type": "code",
   "execution_count": null,
   "metadata": {
    "id": "RksdchVKoksd"
   },
   "outputs": [],
   "source": [
    "#@title\n",
    "df=pd.read_csv('agricultural_raw_material.csv')"
   ]
  },
  {
   "cell_type": "markdown",
   "metadata": {
    "id": "skpaFumOs7mn"
   },
   "source": [
    "**Explorando o conjunto de dados**"
   ]
  },
  {
   "cell_type": "code",
   "execution_count": null,
   "metadata": {
    "colab": {
     "base_uri": "https://localhost:8080/"
    },
    "id": "hZqV-8Y3pW2J",
    "outputId": "27917c65-3127-458c-af6c-aea6002816c1"
   },
   "outputs": [],
   "source": [
    "df.info\n",
    "#Checking Null Values of each column\n",
    "df.isnull().sum()"
   ]
  },
  {
   "cell_type": "markdown",
   "metadata": {
    "id": "YDXqmHRZs4rG"
   },
   "source": [
    "**Lidar com dados ausentes, incorretos e inválidos**"
   ]
  },
  {
   "cell_type": "code",
   "execution_count": null,
   "metadata": {
    "colab": {
     "base_uri": "https://localhost:8080/"
    },
    "id": "zxA1Pvwspfij",
    "outputId": "af4db293-3286-425b-86d7-6b446a5dbcf8"
   },
   "outputs": [],
   "source": [
    "# Replacing %, \",\" and \"-\"\n",
    "df = df.replace('%', '', regex=True)\n",
    "df = df.replace(',', '', regex=True)\n",
    "df = df.replace('-', '', regex=True)\n",
    "df = df.replace('', np.nan)\n",
    "df = df.replace('MAY90', np.nan)\n",
    "# Dropping rows with NaN values\n",
    "df = df.dropna()\n",
    "# Check to see if all NaN values are resolved\n",
    "df.isnull().sum()\n",
    "# Converting data type to float\n",
    "lst = [\"Coarse wool Price\", \"Coarse wool price % Change\", \"Copra Price\", \"Copra price % Change\", \"Cotton price % Change\",\"Fine wool Price\", \"Fine wool price % Change\", \"Hard log price % Change\", \"Hard sawnwood price % Change\", \"Hide price % change\", \"Plywood price % Change\", \"Rubber price % Change\", \"Softlog price % Change\", \"Soft sawnwood price % Change\", \"Wood pulp price % Change\"]\n",
    "df[lst] = df[lst].astype(\"float\")\n",
    "df.dtypes"
   ]
  },
  {
   "cell_type": "code",
   "execution_count": null,
   "metadata": {
    "colab": {
     "base_uri": "https://localhost:8080/",
     "height": 332
    },
    "id": "VHzxc-7rtZb2",
    "outputId": "e7406ee4-17f1-4f7e-d94d-6eb62328de3e"
   },
   "outputs": [],
   "source": [
    "df.head()"
   ]
  },
  {
   "cell_type": "markdown",
   "metadata": {
    "id": "S0jKYIWXsuki"
   },
   "source": [
    "**Colunas de data e horacolunas**\n",
    "\n",
    "formatando a coluna datetime e definindo-a como índice para o conjunto de dados"
   ]
  },
  {
   "cell_type": "code",
   "execution_count": null,
   "metadata": {
    "id": "cX4cCk2Opks9"
   },
   "outputs": [],
   "source": [
    "df.Month  = pd.to_datetime(df.Month.str.upper(), format='%b%y', yearfirst=False)\n",
    "# Indexing month\n",
    "df = df.set_index('Month')"
   ]
  },
  {
   "cell_type": "code",
   "execution_count": null,
   "metadata": {
    "colab": {
     "base_uri": "https://localhost:8080/",
     "height": 450
    },
    "id": "N-_CXnf1pn5V",
    "outputId": "0227354d-21ec-49c9-aace-eac2914df1b5"
   },
   "outputs": [],
   "source": [
    "df.head()"
   ]
  },
  {
   "cell_type": "markdown",
   "metadata": {
    "id": "w6pqW8QHsa-o"
   },
   "source": [
    "Análise Exploratória e Visualização\n",
    "Vamos começar importando **matplotlib.pyplot e seaborn**."
   ]
  },
  {
   "cell_type": "code",
   "execution_count": null,
   "metadata": {
    "id": "zEDpVHTgppeR"
   },
   "outputs": [],
   "source": [
    "import seaborn as sns\n",
    "import matplotlib\n",
    "import matplotlib.pyplot as plt\n",
    "%matplotlib inline\n",
    "sns.set_style('darkgrid')\n",
    "matplotlib.rcParams['font.size'] = 14\n",
    "matplotlib.rcParams['figure.figsize'] = (9, 5)\n",
    "matplotlib.rcParams['figure.facecolor'] = '#00000000'"
   ]
  },
  {
   "cell_type": "markdown",
   "metadata": {
    "id": "dU4ull55sUEE"
   },
   "source": [
    "**Mapa de calor**"
   ]
  },
  {
   "cell_type": "code",
   "execution_count": null,
   "metadata": {
    "colab": {
     "base_uri": "https://localhost:8080/",
     "height": 683
    },
    "id": "-k9t95SHptDL",
    "outputId": "844d2a2e-5b9b-4eeb-e10a-823edfbba8ac"
   },
   "outputs": [],
   "source": [
    "#raw-materials list\n",
    "raw_data=['Coarse wool Price',  'Copra Price','Cotton Price', 'Fine wool Price',  'Hard log Price', 'Hard sawnwood Price',\n",
    " 'Hide Price', 'Plywood Price', 'Rubber Price', 'Softlog Price', 'Soft sawnwood Price', 'Wood pulp Price']\n",
    "#getting the correlation matrix\n",
    "corrmat = df[raw_data].corr()\n",
    "#setting the size of plot\n",
    "fig = plt.figure(figsize = (12, 9))\n",
    "#masking the upper traingle part since matrix is symmetric(repetitive) \n",
    "mask = np.triu(np.ones_like(corrmat, dtype=bool))\n",
    "sns.heatmap(corrmat, vmax = .8,mask=mask, square = True, annot = True)\n",
    "plt.show()"
   ]
  },
  {
   "cell_type": "markdown",
   "metadata": {
    "id": "9_wfhgvXsQCt"
   },
   "source": [
    "O mapa de calor mostra a correlação entre as matérias-primas maior o valor correlacionado maior chance de serem duas matérias-primas relacionadas, mas não necessariamente\n",
    "\n",
    "Explore uma ou mais colunas traçando um gráfico abaixo e adicione alguma explicação sobre ele Matriz de correlação"
   ]
  },
  {
   "cell_type": "code",
   "execution_count": null,
   "metadata": {
    "colab": {
     "base_uri": "https://localhost:8080/",
     "height": 936
    },
    "id": "vsdf8nlBpvcH",
    "outputId": "65e0a579-27bb-4122-840e-4a054642b14c"
   },
   "outputs": [],
   "source": [
    "plt.figure(figsize=(30,15))\n",
    "changelist=['Copra price % Change','Softlog price % Change','Rubber price % Change','Cotton price % Change','Coarse wool price % Change','Fine wool price % Change','Hard log price % Change','Hard sawnwood price % Change','Hide price % change','Plywood price % Change','Soft sawnwood price % Change','Wood pulp price % Change']\n",
    "#generate a correlation matrix for the whole dataset\n",
    "corrMatrix = df[changelist].corr()\n",
    "sns.heatmap(corrMatrix, annot=True)\n",
    "plt.show()"
   ]
  },
  {
   "cell_type": "markdown",
   "metadata": {
    "id": "H9vpYnyNsHm7"
   },
   "source": [
    "A partir deste gráfico podemos dizer que quase não há relação entre a variação percentual dos preços das matérias-primas\n",
    "\n",
    "* o valor negativo implica que duas variáveis ​​estão negativamente correlacionadas (um aumento, outro decréscimo)\n",
    "* Zero implica nenhuma relação\n",
    "* caso contrário, maior o valor maior a chance de relação.\n",
    "preços e seus gráficos de % de mudança"
   ]
  },
  {
   "cell_type": "markdown",
   "metadata": {
    "id": "VjuHxZAMuP84"
   },
   "source": [
    "**Lã grossa**"
   ]
  },
  {
   "cell_type": "code",
   "execution_count": null,
   "metadata": {
    "colab": {
     "base_uri": "https://localhost:8080/",
     "height": 559
    },
    "id": "k5dtKt2lqF8f",
    "outputId": "ea25c2e6-cec7-40a2-d47c-f9fb5b7f5017"
   },
   "outputs": [],
   "source": [
    "axes=df[[\"Coarse wool Price\", \"Coarse wool price % Change\"]].plot(figsize=(11, 9), subplots=True, linewidth=1)\n"
   ]
  },
  {
   "cell_type": "code",
   "execution_count": null,
   "metadata": {
    "id": "pQBXMp1bqOxA"
   },
   "outputs": [],
   "source": []
  },
  {
   "cell_type": "markdown",
   "metadata": {
    "id": "o7u7r0YDr_qO"
   },
   "source": [
    "Da mesma forma, podemos encontrar a visualização de todos os outros recursos fornecidos no conjunto de dados.\n",
    "\n",
    "##Fazendo e respondendo perguntas##\n",
    "**Q1: Descubra a variação normal do preço de cada matéria-prima**"
   ]
  },
  {
   "cell_type": "code",
   "execution_count": null,
   "metadata": {
    "colab": {
     "base_uri": "https://localhost:8080/",
     "height": 1000
    },
    "id": "hH7IWUp7qX8A",
    "outputId": "ba8eb390-f018-4ffe-a2a4-6a2e876d317a"
   },
   "outputs": [],
   "source": [
    "#df[[\"Wood pulp Price\", \"Wood pulp price % Change\"]].hist(figsize=(11, 9), linewidth=1)\n",
    "\n",
    "changelist=['Copra price % Change','Softlog price % Change','Rubber price % Change','Cotton price % Change','Coarse wool price % Change','Fine wool price % Change','Hard log price % Change','Hard sawnwood price % Change','Hide price % change','Plywood price % Change','Soft sawnwood price % Change','Wood pulp price % Change']\n",
    "for i in range(len(changelist)):\n",
    "    plt.figure(figsize=(12,12))\n",
    "    df[changelist[i]].hist(figsize=(11, 9), linewidth=1)\n",
    "    plt.xlabel('% Change')\n",
    "    plt.ylabel('count')\n",
    "    plt.legend(changelist[i:],loc='upper center',bbox_to_anchor=(1.2,1))\n"
   ]
  },
  {
   "cell_type": "markdown",
   "metadata": {
    "id": "n9ZJ62BMr5pO"
   },
   "source": [
    "Podemos observar que a maioria das matérias-primas tem % de mudança frequente ideal inferior a 5%\n",
    "\n",
    "**Q2: Encontre a matéria-prima que tem o menor preço ao longo dos anos**"
   ]
  },
  {
   "cell_type": "code",
   "execution_count": null,
   "metadata": {
    "colab": {
     "base_uri": "https://localhost:8080/",
     "height": 706
    },
    "id": "L0Y4f6wGqYSV",
    "outputId": "94348338-886d-478c-e54a-40a79ca2707b"
   },
   "outputs": [],
   "source": [
    "plt.figure(figsize=(10, 10))\n",
    "materialslist=['Copra Price','Softlog Price','Rubber Price','Cotton Price','Coarse wool Price','Fine wool Price','Hard log Price','Hard sawnwood Price','Hide Price','Plywood Price','Soft sawnwood Price','Wood pulp Price']\n",
    "for i in range(len(materialslist)):\n",
    "    plt.subplot(4,3,i+1)\n",
    "    plt.subplots_adjust( hspace=1 ,wspace=0.5)\n",
    "    plt.title(materialslist[i])\n",
    "    plt.plot(df[materialslist[i]])\n",
    "    plt.xticks(rotation=90)\n",
    "plt.suptitle(\"Raw-Materials price comparision\")"
   ]
  },
  {
   "cell_type": "markdown",
   "metadata": {
    "id": "F7zazExZr2Wa"
   },
   "source": [
    "Podemos ver que o algodão e a borracha são de preços mais baixos\n",
    "vamos comparar preços para entender melhor qual é o mais baixo"
   ]
  },
  {
   "cell_type": "code",
   "execution_count": null,
   "metadata": {
    "colab": {
     "base_uri": "https://localhost:8080/",
     "height": 651
    },
    "id": "itIMXisKqjkX",
    "outputId": "d4f302d2-7a43-453b-c2ef-aab501add8d6"
   },
   "outputs": [],
   "source": [
    "plt.figure(figsize=(10, 10))\n",
    "plt.plot(df[['Cotton Price','Rubber Price']])\n",
    "plt.title(\"Raw-Materials price comparision\")\n",
    "plt.xlabel('Years')\n",
    "plt.ylabel('Prices')\n",
    "plt.legend(['Cotton Price','Rubber Price'],loc='upper center',bbox_to_anchor=(1.2,1))"
   ]
  },
  {
   "cell_type": "markdown",
   "metadata": {
    "id": "xIrNVCpfrvyK"
   },
   "source": [
    "**algodão** é matéria-prima de menor preço nos últimos anos\n",
    "\n",
    "Tanto o algodão quanto a borracha são materiais de baixo preço"
   ]
  },
  {
   "cell_type": "code",
   "execution_count": null,
   "metadata": {
    "colab": {
     "base_uri": "https://localhost:8080/",
     "height": 651
    },
    "id": "RN6niKcDqqBp",
    "outputId": "e9d3f195-8d81-4208-cc6c-d3011b5c15bd"
   },
   "outputs": [],
   "source": [
    "plt.figure(figsize=(10, 10))\n",
    "plt.plot(df[['Copra Price','Softlog Price','Rubber Price','Cotton Price','Coarse wool Price','Fine wool Price','Hard log Price','Hard sawnwood Price','Hide Price','Plywood Price','Soft sawnwood Price','Wood pulp Price']])\n",
    "plt.title(\"Raw-Materials price comparision\")\n",
    "plt.xlabel('Years')\n",
    "plt.ylabel('Prices')\n",
    "plt.legend(['Copra Price','Softlog Price','Rubber Price','Cotton Price','Coarse wool Price','Fine wool Price','Hard log Price','Hard sawnwood Price','Hide Price','Plywood Price','Soft sawnwood Price','Wood pulp Price'],loc='upper center',bbox_to_anchor=(1.2,1))"
   ]
  },
  {
   "cell_type": "markdown",
   "metadata": {
    "id": "zU8UnsYQrqQm"
   },
   "source": [
    "A partir dos gráficos pudemos analisar as matérias-primas em tipos de acordo com seu preço ao longo dos anos\n",
    "\n",
    "materiais de baixo preço\n",
    "\n",
    "-algodão, couro, softlog, log duro, preço de madeira serrada macia, borracha\n",
    "\n",
    "Materiais de alto preço\n",
    "\n",
    "-lã grossa,copra,lã fina,madeira serrada dura,pasta de madeira,madeira compensada\n",
    "\n",
    "**Q3: qual matéria-prima tem a maior e menor variação de % de preço**"
   ]
  },
  {
   "cell_type": "code",
   "execution_count": null,
   "metadata": {
    "id": "mSuxrwfiqtyX"
   },
   "outputs": [],
   "source": [
    "import random as random"
   ]
  },
  {
   "cell_type": "code",
   "execution_count": null,
   "metadata": {
    "colab": {
     "base_uri": "https://localhost:8080/",
     "height": 764
    },
    "id": "IOg10Oduqv7v",
    "outputId": "211da43c-83cf-4a53-d107-134b1c2d7bf3"
   },
   "outputs": [],
   "source": [
    "#lowchangelist=['Cotton price % Change','Hide price % change','Softlog price % Change','Hard log price % Change','Soft sawnwood price % Change','Plywood price % Change']\n",
    "plt.figure(figsize=(12,12))\n",
    "for i in range(len(changelist)):\n",
    "   \n",
    "    r = random.random()\n",
    "    b = random.random()\n",
    "    g = random.random()\n",
    "    color = (r, g, b)\n",
    "    plt.subplot(4,3,i+1)\n",
    "    plt.subplots_adjust( hspace=1 ,wspace=0.5)\n",
    "    plt.plot(df[changelist[i]],c=color)\n",
    "    plt.xticks(rotation=90)\n",
    "    plt.title(changelist[i])\n",
    "    plt.xlabel('Years')\n",
    "    plt.ylabel('% Change')\n",
    "    #plt.legend(changelist[i:],loc='upper center',bbox_to_anchor=(1.2,1))"
   ]
  },
  {
   "cell_type": "markdown",
   "metadata": {
    "id": "Wps1JpFjriT-"
   },
   "source": [
    "Podemos ver a maior % de mudança em mais de 60 para madeira serrada macia e a menor % de mudança é para madeira compensada em menos de 20\n",
    "\n",
    "**Q4: Encontre as matérias-primas com mudança drástica de preço**"
   ]
  },
  {
   "cell_type": "code",
   "execution_count": null,
   "metadata": {
    "colab": {
     "base_uri": "https://localhost:8080/",
     "height": 722
    },
    "id": "7_sgP6XiqyAd",
    "outputId": "1d31f834-8b4b-4542-8626-6ee5adadd453"
   },
   "outputs": [],
   "source": [
    "#plt.figure(figsize=(12,12))\n",
    "#sns.scatterplot(df['Cotton Price'],df.index,hue=df['Fine wool Price']);\n",
    "lowlist=['Cotton Price','Hide Price','Softlog Price','Hard log Price','Soft sawnwood Price','Rubber Price']\n",
    "plt.figure(figsize=(12,12))\n",
    "plt.ylabel('Prices')\n",
    "plt.xlabel('Years')\n",
    "#plt.legend(lowlist,loc='upper center',bbox_to_anchor=(1.2,1))\n",
    "for i in range(len(lowlist)):\n",
    "    sns.scatterplot(y=df[lowlist[i]],x=df.index);\n",
    "    plt.legend(lowlist,loc='upper center',bbox_to_anchor=(1.2,1))"
   ]
  },
  {
   "cell_type": "code",
   "execution_count": null,
   "metadata": {
    "colab": {
     "base_uri": "https://localhost:8080/",
     "height": 722
    },
    "id": "sYRVNCo1q0Dr",
    "outputId": "b527a040-9ac8-4da4-b62f-983c20c55388"
   },
   "outputs": [],
   "source": [
    "#plt.figure(figsize=(12,12))\n",
    "#sns.scatterplot(df['Cotton Price'],df.index,hue=df['Fine wool Price']);\n",
    "#lowlist=['Cotton Price','Hide Price','Softlog Price','Hard log Price','Soft sawnwood Price','Plywood Price']\n",
    "highlist=['Coarse wool Price','Copra Price','Fine wool Price','Hard sawnwood Price','Plywood Price','Wood pulp Price']\n",
    "#lowchangelist=['Cotton price % Change','Hide price % change','Softlog price % Change','Hard log price % Change','Soft sawnwood price % Change','Plywood price % Change']\n",
    "plt.figure(figsize=(12,12))\n",
    "plt.xlabel('Prices')\n",
    "plt.ylabel('Years')\n",
    "for i in range(len(highlist)):\n",
    "    sns.scatterplot(x=df[highlist[i]],y=df.index);\n",
    "    plt.legend(highlist,loc='upper center',bbox_to_anchor=(1.2,1))"
   ]
  },
  {
   "cell_type": "markdown",
   "metadata": {
    "id": "PpfCiaH0rTEX"
   },
   "source": [
    "A mudança de preço é drástica para o preço de tora dura entre materiais de baixa faixa de preço e entre materiais de alto preço, são os preços de lã fina\n",
    "\n",
    "**Q5: Descobrir a faixa de preço de matérias-primas de baixo preço** "
   ]
  },
  {
   "cell_type": "code",
   "execution_count": null,
   "metadata": {
    "colab": {
     "base_uri": "https://localhost:8080/",
     "height": 342
    },
    "id": "KRr0jto1q2HB",
    "outputId": "1893565a-17cd-4b61-f6e9-f78ed99cd626"
   },
   "outputs": [],
   "source": [
    "#plt.figure(figsize=(10, 10))\n",
    "lowlist=['Cotton Price','Hide Price','Softlog Price','Hard log Price','Soft sawnwood Price','Rubber Price']\n",
    "for i in range(6):\n",
    "    #plt.title(lowlist[i])\n",
    "    plt.subplot(2, 3, i+1)\n",
    "    plt.subplots_adjust( hspace=0.5 )\n",
    "    sns.boxplot(x=df[lowlist[i]])"
   ]
  },
  {
   "cell_type": "markdown",
   "metadata": {
    "id": "-G4zD7a9q_oS"
   },
   "source": [
    "Inclui: O intervalo interquartil está entre Q3 e Q1 mínimo, primeiro quartil (Q1), mediana, terceiro quartil (Q3) e máximo e outliers\n",
    "\n",
    "\n",
    "## Inferências e Conclusão\n",
    "* Descobrimos as matérias-primas de alta e baixa gama de acordo com seus preços.\n",
    "* alta e baixa % de variação dos materiais\n",
    "* Pudemos identificar a variação de preços ao longo dos anos.\n",
    "* Correlação entre eles usando um mapa de calor\n",
    "\n",
    "## Trabalho futuro\n",
    "*  Além disso, poderíamos descobrir a relação entre as matérias-primas em detalhes e, com a ajuda do conhecimento do negócio, poderíamos descobrir as matérias-primas mais próximas.\n",
    "*  Também pudemos prever os preços das matérias-primas analisando os anos anteriores\n",
    "\n",
    "* Prevendo a variação de preços e com base nisso, poderíamos planejar nosso uso de matéria-prima com antecedência para o próximo ano e descobrir quaisquer materiais alternativos."
   ]
  }
 ],
 "metadata": {
  "colab": {
   "provenance": []
  },
  "kernelspec": {
   "display_name": "Python 3",
   "name": "python3"
  },
  "language_info": {
   "codemirror_mode": {
    "name": "ipython",
    "version": 3
   },
   "file_extension": ".py",
   "mimetype": "text/x-python",
   "name": "python",
   "nbconvert_exporter": "python",
   "pygments_lexer": "ipython3",
   "version": "3.12.8"
  }
 },
 "nbformat": 4,
 "nbformat_minor": 0
}
